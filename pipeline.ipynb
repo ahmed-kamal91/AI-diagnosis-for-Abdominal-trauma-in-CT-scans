{
 "cells": [
  {
   "cell_type": "code",
   "execution_count": 1,
   "metadata": {},
   "outputs": [],
   "source": [
    "import os\n",
    "import cv2\n",
    "import torch\n",
    "import torch.nn as nn\n",
    "import torch.nn.functional as F\n",
    "from torchvision import models\n",
    "import shutil\n",
    "import pydicom\n",
    "import numpy as np\n",
    "import nibabel as nib\n",
    "from tqdm import tqdm\n",
    "import multiprocessing\n",
    "from joblib import Parallel, delayed\n",
    "\n",
    "l = os.listdir\n",
    "rme = os.rename\n",
    "mk = os.makedirs\n",
    "j = os.path.join\n",
    "e = os.path.exists\n",
    "basename = os.path.basename"
   ]
  },
  {
   "cell_type": "markdown",
   "metadata": {},
   "source": [
    "### Rename dcm files per scan"
   ]
  },
  {
   "cell_type": "code",
   "execution_count": 2,
   "metadata": {},
   "outputs": [],
   "source": [
    "def reindex(pth):\n",
    "    dcm_pths = sorted([int(px.split('.')[0]) for px in l(pth) if px.endswith(\".dcm\")])\n",
    "    for n,f in enumerate(dcm_pths):\n",
    "        nw = j(pth, (str(n)+\".dcm\"))\n",
    "        rme(j(pth, str(f)+\".dcm\"),nw)"
   ]
  },
  {
   "cell_type": "markdown",
   "metadata": {},
   "source": [
    "### Helper function"
   ]
  },
  {
   "cell_type": "code",
   "execution_count": 3,
   "metadata": {},
   "outputs": [],
   "source": [
    "def calc_black_pct(img):\n",
    "    return (np.sum(img == 0) / (img.shape[0] * img.shape[1])) * 100"
   ]
  },
  {
   "cell_type": "code",
   "execution_count": 4,
   "metadata": {},
   "outputs": [],
   "source": [
    "def process_mask(pth):\n",
    "    m = nib.load(pth).get_fdata()\n",
    "\n",
    "    m = np.transpose(m, [1, 0, 2])\n",
    "    m = np.rot90(m, 1, (1, 2))\n",
    "    m = m[::-1, :, :]\n",
    "    m = np.transpose(m, [1, 0, 2])\n",
    "\n",
    "    m = m.astype(np.float32)\n",
    "    m[m < 0.5] = 0\n",
    "    m[m>=0.5] =1\n",
    "    m = m.astype(np.uint8)\n",
    "\n",
    "    t = 5 \n",
    "    m = m[::t,::2,::2]\n",
    "\n",
    "    return m"
   ]
  },
  {
   "cell_type": "code",
   "execution_count": 5,
   "metadata": {},
   "outputs": [],
   "source": [
    "def preprocess_dcm2img (dicom_image):\n",
    "\n",
    "    pixel_array = dicom_image.pixel_array\n",
    "    \n",
    "    if dicom_image.PixelRepresentation == 1:\n",
    "        bit_shift = dicom_image.BitsAllocated - dicom_image.BitsStored\n",
    "        dtype = pixel_array.dtype \n",
    "        new_array = (pixel_array << bit_shift).astype(dtype) >>  bit_shift\n",
    "        pixel_array = pydicom.pixel_data_handlers.util.apply_modality_lut(new_array, dicom_image)\n",
    "    \n",
    "    if dicom_image.PhotometricInterpretation == \"MONOCHROME1\":\n",
    "        pixel_array = 1 - pixel_array\n",
    "    \n",
    "    # transform to hounsfield units\n",
    "    intercept = dicom_image.RescaleIntercept\n",
    "    slope = dicom_image.RescaleSlope\n",
    "    pixel_array = pixel_array * slope + intercept\n",
    "    \n",
    "    # windowing\n",
    "    window_center = int(dicom_image.WindowCenter)\n",
    "    window_width = int(dicom_image.WindowWidth)\n",
    "    img_min = window_center - window_width // 2\n",
    "    img_max = window_center + window_width // 2\n",
    "    pixel_array = pixel_array.copy()\n",
    "    pixel_array[pixel_array < img_min] = img_min\n",
    "    pixel_array[pixel_array > img_max] = img_max\n",
    "    \n",
    "    # normalization\n",
    "    pixel_array = (pixel_array - pixel_array.min())/(pixel_array.max() - pixel_array.min())\n",
    "    \n",
    "    return (pixel_array * 255).astype(np.uint8)"
   ]
  },
  {
   "cell_type": "code",
   "execution_count": 6,
   "metadata": {},
   "outputs": [],
   "source": [
    "def preprocess_single_dcm(dcm_path, jpgScan_pth, SIZE):\n",
    "\n",
    "    dcm = pydicom.dcmread(dcm_path)\n",
    "    img = preprocess_dcm2img(dcm) \n",
    "    img = cv2.resize(img, (SIZE, SIZE))\n",
    "\n",
    "    #convert dicom to jpeg\n",
    "    px = basename(dcm_path)\n",
    "    out_pth = os.path.join(jpgScan_pth, px.replace(\".dcm\", \".jpeg\"))\n",
    "    \n",
    "    cv2.imwrite(out_pth, img)"
   ]
  },
  {
   "cell_type": "markdown",
   "metadata": {},
   "source": [
    "### Initial Preprocess"
   ]
  },
  {
   "cell_type": "code",
   "execution_count": 7,
   "metadata": {},
   "outputs": [],
   "source": [
    "\n",
    "# helper function needed:\n",
    "# 1- preprocess_dcm2img (dicom_image)\n",
    "# 2- preprocess_single_dcm(dcm_path, jpgScan_pth, SIZE)\n",
    "\n",
    "def initPreprocess(dicom_scanFolder_pth, jpgScan_pth, strt, end, TICK=5, SIZE=256):\n",
    "    \n",
    "    print(\"Initial preprocessing based ROI...\")\n",
    "\n",
    "    dcms = sorted([int(x.replace(\".dcm\",\"\")) for x in l(dicom_scanFolder_pth)])\n",
    "    dcms = [str(x)+\".dcm\" for x in dcms]\n",
    "\n",
    "    # get tick\n",
    "    curr_tick = pydicom.dcmread(j(dicom_scanFolder_pth, dcms[0])).SliceThickness\n",
    "    step = round(TICK/curr_tick)\n",
    "\n",
    "    dcm_paths = []\n",
    "\n",
    "    cpu_cores = multiprocessing.cpu_count()\n",
    "\n",
    "    for idx,i in enumerate(range(0, len(dcms), step)):\n",
    "        if idx >= strt and idx <=end:\n",
    "            dcm_paths.append(j(dicom_scanFolder_pth, dcms[i]))\n",
    "            _ = Parallel(n_jobs=(cpu_cores/2))(delayed(preprocess_single_dcm)(path, jpgScan_pth, SIZE) for path in dcm_paths)\n",
    "            \n",
    "    print(\"DONE\")"
   ]
  },
  {
   "cell_type": "markdown",
   "metadata": {},
   "source": [
    "### Convert dcm to nii"
   ]
  },
  {
   "cell_type": "code",
   "execution_count": 8,
   "metadata": {},
   "outputs": [],
   "source": [
    "def Dcm2Nii(dcm_pth,nii_pth):\n",
    "    print(\"converting...\")\n",
    "    os.system(f'dcm2niix -o {nii_pth} {dcm_pth}')\n",
    "    print(\"DONE\")"
   ]
  },
  {
   "cell_type": "markdown",
   "metadata": {},
   "source": [
    "### Generate Masks"
   ]
  },
  {
   "cell_type": "code",
   "execution_count": 9,
   "metadata": {},
   "outputs": [],
   "source": [
    "def genMasks(nii_pth, ms_pth):\n",
    "    print(\"generating masks...\")\n",
    "    input_pth  = j(nii_pth,[f for f in l(nii_pth) if f.endswith('.nii')][0])\n",
    "    os.system(f\"TotalSegmentator -i {input_pth} -o {ms_pth} --fast --roi_subset liver urinary_bladder\")\n",
    "    print(\"Done\")"
   ]
  },
  {
   "cell_type": "markdown",
   "metadata": {},
   "source": [
    " ### Get ROI"
   ]
  },
  {
   "cell_type": "code",
   "execution_count": 10,
   "metadata": {},
   "outputs": [],
   "source": [
    "def getROI(mfolder_pth, thresh):\n",
    "\n",
    "    print(\"Extract ROI...\")\n",
    "    ROI =[]\n",
    "    for m_name in l(mfolder_pth):\n",
    "        m_pth = j(mfolder_pth,m_name)\n",
    "        m = process_mask(m_pth)\n",
    "        for idx,f in enumerate(range(m.shape[0])):\n",
    "            if calc_black_pct(m[f,:,:]) < thresh: \n",
    "                ROI.append(idx)\n",
    "                break\n",
    "    print(\"DONE\")\n",
    "    return tuple(ROI)"
   ]
  },
  {
   "cell_type": "markdown",
   "metadata": {},
   "source": [
    "### Model input"
   ]
  },
  {
   "cell_type": "code",
   "execution_count": 11,
   "metadata": {},
   "outputs": [],
   "source": [
    "def select_elements_with_spacing(input_list, divsion):\n",
    "      \n",
    "    spacing = len(input_list) // divsion\n",
    "    if spacing == 0 :\n",
    "        spacing = 1\n",
    "\n",
    "    selected_indices = [spacing * i for i in range(0,divsion-1)]\n",
    "    selected_indices.append(len(input_list)-1)\n",
    "\n",
    "    selected_elements = [input_list[index] for index in selected_indices]\n",
    "    \n",
    "    return selected_elements"
   ]
  },
  {
   "cell_type": "code",
   "execution_count": 12,
   "metadata": {},
   "outputs": [],
   "source": [
    "def preprocess_jpeg(jpg_scanFolder_pth,jpeg_path):\n",
    "    \n",
    "    img = cv2.imread(j(jpg_scanFolder_pth,jpeg_path))\n",
    "    greyscale = cv2.cvtColor(img, cv2.COLOR_BGR2GRAY)/255\n",
    "    \n",
    "    return greyscale"
   ]
  },
  {
   "cell_type": "code",
   "execution_count": 13,
   "metadata": {},
   "outputs": [],
   "source": [
    "def prepareModelInput(jpg_scanFolder_pth, num_frames=10):\n",
    "    \n",
    "    print(\"input preparing...\")\n",
    "    \n",
    "    frame_pths = sorted([int(f.split('.')[0]) for f in l(jpg_scanFolder_pth)])\n",
    "    frame_pths = [str(f)+'.jpeg' for f in frame_pths]\n",
    "\n",
    "    frame_pths = select_elements_with_spacing( frame_pths, num_frames)\n",
    "\n",
    "    images = []\n",
    "    for f in frame_pths:\n",
    "        image = preprocess_jpeg(jpg_scanFolder_pth,f)\n",
    "        images.append(image)\n",
    "        \n",
    "    images = np.stack(images)\n",
    "    images = np.expand_dims(images, axis=0)\n",
    "    image = torch.tensor(images, dtype = torch.float)\n",
    "\n",
    "    print(\"DONE\")\n",
    "    \n",
    "    return image"
   ]
  },
  {
   "cell_type": "markdown",
   "metadata": {},
   "source": [
    "### Model Architecture"
   ]
  },
  {
   "cell_type": "code",
   "execution_count": 14,
   "metadata": {},
   "outputs": [],
   "source": [
    "# Model Architecure\n",
    "class CNNModel(nn.Module):\n",
    "    def __init__(self):\n",
    "        super().__init__()\n",
    "        \n",
    "        self.input = nn.Conv2d(10, 3, kernel_size = 3)\n",
    "        \n",
    "        model = models.efficientnet_b0(weights = 'IMAGENET1K_V1')\n",
    "        \n",
    "        self.features = model.features\n",
    "        self.avgpool = model.avgpool\n",
    "        \n",
    "        #heads\n",
    "        self.bowel = nn.Linear(1280, 1) #1,0\n",
    "\n",
    "        self.extravasation = nn.Linear(1280, 1) #1.0\n",
    "\n",
    "        self.kidney = nn.Linear(1280, 3)\n",
    "\n",
    "        self.liver = nn.Linear(1280,3) \n",
    "\n",
    "        self.spleen = nn.Linear(1280, 3)\n",
    "    \n",
    "    def forward(self, x):\n",
    "        \n",
    "        # extract features\n",
    "        x = self.input(x)\n",
    "        x = self.features(x)\n",
    "        x = self.avgpool(x)\n",
    "        x = torch.flatten(x, 1)\n",
    "        \n",
    "        # output logits\n",
    "        bowel = self.bowel(x)\n",
    "        extravsation = self.extravasation(x)\n",
    "        kidney = self.kidney(x)\n",
    "        liver = self.liver(x)\n",
    "        spleen = self.spleen(x)\n",
    "        \n",
    "        return bowel, extravsation, kidney, liver, spleen"
   ]
  },
  {
   "cell_type": "markdown",
   "metadata": {},
   "source": [
    "### Run Model"
   ]
  },
  {
   "cell_type": "code",
   "execution_count": 15,
   "metadata": {},
   "outputs": [],
   "source": [
    "def runModel(model_path, modelInput): \n",
    "    \"initial model...\"\n",
    "    model = CNNModel()\n",
    "    state_dict = torch.load(model_path)\n",
    "    model.load_state_dict(state_dict)\n",
    "    model.eval()  \n",
    "    print('predicting...')\n",
    "    with torch.no_grad():\n",
    "        bowel, extravasation, kidney, liver, spleen = model(modelInput)\n",
    "        print('DONE')\n",
    "        return bowel, extravasation, kidney, liver, spleen\n",
    "    "
   ]
  },
  {
   "cell_type": "markdown",
   "metadata": {},
   "source": [
    "### Get Results"
   ]
  },
  {
   "cell_type": "code",
   "execution_count": 16,
   "metadata": {},
   "outputs": [],
   "source": [
    "def getResults(b, e, k, l, s, thresh=0.5):\n",
    "    \n",
    "    getdic = lambda name: {0: f\"Healthy {name}\", 1: f\"Low Injury {name}\", 2: f\"High Injury {name}\"}\n",
    "\n",
    "    br = \"Healthy bowel\" if b < 0.5 else \"injured bowel\"\n",
    "    er = \"NO extravasation detected\" if e < 0.5 else \"extravasation DETECTED\"\n",
    "\n",
    "    kr = np.argmax(k).item()\n",
    "    kr = getdic(\"Kidneys\")[kr]\n",
    "\n",
    "    lr = np.argmax(l).item()\n",
    "    lr = getdic(\"Liver\")[lr]\n",
    "\n",
    "    sr = np.argmax(s).item()\n",
    "    sr = getdic(\"Spleen\")[sr]\n",
    "\n",
    "    return br, er, kr, lr, sr\n"
   ]
  },
  {
   "cell_type": "markdown",
   "metadata": {},
   "source": [
    "<h3>DEBUG</h3>empty Constant folders (DON'T USE)"
   ]
  },
  {
   "cell_type": "code",
   "execution_count": 17,
   "metadata": {},
   "outputs": [],
   "source": [
    "import os\n",
    "import shutil\n",
    "\n",
    "def reset_constants():\n",
    "    if e('C:\\\\App\\\\niiScan'): shutil.rmtree('C:\\\\App\\\\niiScan')\n",
    "    os.makedirs('C:\\\\App\\\\niiScan', exist_ok=True)\n",
    "    \n",
    "    if e('C:\\\\App\\\\masks'): shutil.rmtree('C:\\\\App\\\\masks')\n",
    "    os.makedirs('C:\\\\App\\\\masks', exist_ok=True)\n",
    "\n",
    "    if e('C:\\\\App\\\\jpgScan'): shutil.rmtree('C:\\\\App\\\\jpgScan')\n",
    "    os.makedirs('C:\\\\App\\\\jpgScan', exist_ok=True)    \n",
    "\n",
    "reset_constants()\n"
   ]
  },
  {
   "cell_type": "markdown",
   "metadata": {},
   "source": [
    "### Start Pipeline"
   ]
  },
  {
   "cell_type": "code",
   "execution_count": 18,
   "metadata": {},
   "outputs": [],
   "source": [
    "l = os.listdir\n",
    "rme = os.rename\n",
    "mk = os.makedirs\n",
    "j = os.path.join\n",
    "e = os.path.exists\n",
    "basename = os.path.basename"
   ]
  },
  {
   "cell_type": "code",
   "execution_count": 19,
   "metadata": {},
   "outputs": [],
   "source": [
    "\n",
    "root = 'C:\\\\App'\n",
    "dicom_scanFolder_pth = f'{root}\\\\007' #token by browsing\n",
    "nifti_scanFolder_pth = f'{root}\\\\niiScan'\n",
    "masks_scanFolder_pth = f'{root}\\\\masks'\n",
    "jpg_scanFolder_pth   = f'{root}\\\\jpgScan'\n",
    "model_pth            = f'{root}\\\\efficientnet_b0_1.658.pth'"
   ]
  },
  {
   "cell_type": "code",
   "execution_count": 20,
   "metadata": {},
   "outputs": [
    {
     "name": "stdout",
     "output_type": "stream",
     "text": [
      "converting...\n",
      "DONE\n",
      "generating masks...\n",
      "Done\n",
      "Extract ROI...\n",
      "DONE\n",
      "Initial preprocessing based ROI...\n",
      "DONE\n",
      "input preparing...\n",
      "DONE\n",
      "predicting...\n",
      "DONE\n",
      "bowel result >>> Healthy bowel\n",
      "extravasation result >>> NO extravasation detected\n",
      "Kidney result >>> Healthy Kidneys\n",
      "Liver result >>> Healthy Liver\n",
      "Spleen result >>> Healthy Spleen\n"
     ]
    }
   ],
   "source": [
    "#pipeline\n",
    "reindex(dicom_scanFolder_pth)\n",
    "Dcm2Nii(dicom_scanFolder_pth, nifti_scanFolder_pth)\n",
    "genMasks(nifti_scanFolder_pth, masks_scanFolder_pth) \n",
    "strt, end = getROI(masks_scanFolder_pth, thresh = 96.5)\n",
    "initPreprocess(dicom_scanFolder_pth, jpg_scanFolder_pth, strt, end) #(53.8s)\n",
    "modelInput = prepareModelInput(jpg_scanFolder_pth, num_frames=10)\n",
    "b, e, k, l, s = runModel(model_pth, modelInput)\n",
    "br, er, kr, lr, sr = getResults(b, e, k, l, s, thresh=0.5)\n",
    "print(f\"bowel result >>> {br}\\nextravasation result >>> {er}\\nKidney result >>> {kr}\\nLiver result >>> {lr}\\nSpleen result >>> {sr}\")\n"
   ]
  },
  {
   "cell_type": "code",
   "execution_count": null,
   "metadata": {},
   "outputs": [],
   "source": []
  }
 ],
 "metadata": {
  "kernelspec": {
   "display_name": "copied_env",
   "language": "python",
   "name": "python3"
  },
  "language_info": {
   "codemirror_mode": {
    "name": "ipython",
    "version": 3
   },
   "file_extension": ".py",
   "mimetype": "text/x-python",
   "name": "python",
   "nbconvert_exporter": "python",
   "pygments_lexer": "ipython3",
   "version": "3.12.3"
  }
 },
 "nbformat": 4,
 "nbformat_minor": 2
}
